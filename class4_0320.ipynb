{
 "cells": [
  {
   "cell_type": "markdown",
   "metadata": {},
   "source": [
    "03월 20일 화요일 : Functions\n",
    "===\n",
    "추운 날씨가 계속 이어진다. 파이썬은 실내에서 할 수 있다!\n",
    "\n",
    "# 함수를 사용하는 이유\n",
    "---\n",
    "프로그램 내에서 동일한 기능이 반복적으로 사용될 때, 주로 사용한다.\n",
    "    * 해당 부분을 함수로 정의하면 편리하다.\n",
    "    * 기능 상에서 변화가 필요한 부분을 입력값으로 받아, 입력에 따른 결과를 얻을 수 있다.\n",
    "    \n",
    "# 함수 정의하기\n",
    "---\n",
    "1. 헤더(header)\n",
    "    * `def` 키워드로 함수를 정의할 것임을 표시한다.\n",
    "    * `def` 뒤에는 함수명이 등장한다.\n",
    "    * 함수명 괄호 속에는 사용할 파라미터들이 정의한다.\n",
    "    * 반드시 맨 뒤에는 `:` 콜론 기호가 있어야한다.\n",
    "2. 바디(body)\n",
    "    * 함수가 호출되었을 때 실행될 문장을 나열한다.\n",
    "    * 헤더를 기준으로 들여쓰기를 해야한다.\n",
    "    * `return` 을 통해 함수 결과를 출력할 수 있ㄷ."
   ]
  },
  {
   "cell_type": "code",
   "execution_count": null,
   "metadata": {},
   "outputs": [],
   "source": [
    "# 함수 선언 예제\n",
    "def practice_func(arg1, var2):\n",
    "    print(arg1)\n",
    "    var2 += 1\n",
    "    return var2"
   ]
  },
  {
   "cell_type": "markdown",
   "metadata": {},
   "source": [
    "# 함수 호출하기\n",
    "---\n",
    "1. 호출 방법\n",
    "    * 함수명과 괄호로 묶여진 파라미터를 arguments 통해 함수를 호출한다.\n",
    "    * arguments 개수는 정의했을 때와 일반적으로 일치해야한다.\n",
    "2. 호출 결과\n",
    "    * 호출 결과를 활용할 수도 있고, 활용하지 않을 수도 있다.\n",
    "    * 표현식에 바로 넣어서 활용 가능하다."
   ]
  },
  {
   "cell_type": "code",
   "execution_count": 8,
   "metadata": {},
   "outputs": [
    {
     "data": {
      "text/plain": [
       "17"
      ]
     },
     "execution_count": 8,
     "metadata": {},
     "output_type": "execute_result"
    }
   ],
   "source": [
    "# 함수 호출 예제\n",
    "def test(a,b):\n",
    "    return a + b\n",
    "\n",
    "x = 3\n",
    "test(1,x)\n",
    "b = test(3,4) + 10\n",
    "b"
   ]
  },
  {
   "cell_type": "markdown",
   "metadata": {},
   "source": [
    "# 함수의 다양한 형태\n",
    "---\n",
    "* 입력 파라미터가 존재 여부\n",
    "* 호출 결과 존재 여부\n",
    "* 여러 개의 값을 반환하는 함수 ---> tuple 자료형으로 출력된다."
   ]
  },
  {
   "cell_type": "code",
   "execution_count": 11,
   "metadata": {},
   "outputs": [
    {
     "name": "stdout",
     "output_type": "stream",
     "text": [
      "(3, 4)\n"
     ]
    },
    {
     "data": {
      "text/plain": [
       "tuple"
      ]
     },
     "execution_count": 11,
     "metadata": {},
     "output_type": "execute_result"
    }
   ],
   "source": [
    "#여러 개의 값을 반환하는 함수\n",
    "def sort_two_num(n1,n2):\n",
    "    if n1<n2:\n",
    "        return n1, n2\n",
    "    else:\n",
    "        return n2, n1\n",
    "    \n",
    "n = sort_two_num(3,4)\n",
    "print(n)\n",
    "type(n)"
   ]
  },
  {
   "cell_type": "markdown",
   "metadata": {},
   "source": [
    "# Tuple 자료형\n",
    "---\n",
    "리스트와 유사하지만 immutable인 자료형!! 나머지는 리스트와 같다."
   ]
  },
  {
   "cell_type": "code",
   "execution_count": 20,
   "metadata": {},
   "outputs": [
    {
     "name": "stdout",
     "output_type": "stream",
     "text": [
      "2\n",
      "1\n"
     ]
    }
   ],
   "source": [
    "x = 1 \n",
    "\n",
    "def f():\n",
    "    #print(x)\n",
    "    x = 2\n",
    "    print(x)\n",
    "    \n",
    "f()\n",
    "print(x)"
   ]
  },
  {
   "cell_type": "markdown",
   "metadata": {},
   "source": [
    "# Pass by Value\n",
    "---\n",
    "매우 중요!!"
   ]
  },
  {
   "cell_type": "code",
   "execution_count": null,
   "metadata": {},
   "outputs": [],
   "source": []
  },
  {
   "cell_type": "markdown",
   "metadata": {},
   "source": [
    "# 실습 문제1 : Simple calculator\n",
    "---\n"
   ]
  },
  {
   "cell_type": "code",
   "execution_count": 1,
   "metadata": {},
   "outputs": [
    {
     "name": "stdout",
     "output_type": "stream",
     "text": [
      "first number is 3\n",
      "second number is 4\n",
      "operator type is /\n",
      "3.0 / 4.0 = 0.75\n"
     ]
    }
   ],
   "source": [
    "def addition(a,b):\n",
    "    return a + b\n",
    "def subtraction(a,b):\n",
    "    return a - b\n",
    "def multiplication(a,b):\n",
    "    return a * b\n",
    "def division(a,b):\n",
    "    return a / b\n",
    "\n",
    "def calc(a, b, operator):\n",
    "    if operator == '+' or operator == '':\n",
    "        return addition(a,b)\n",
    "    elif operator == '-':\n",
    "        return subtraction(a,b)\n",
    "    elif operator == '*':\n",
    "        return multiplication(a,b)\n",
    "    elif operator == '/':\n",
    "        return division(a,b)\n",
    "    else:\n",
    "        print(\"wrong operator\")\n",
    "\n",
    "def operate_calculator():\n",
    "    a = float(input(\"first number is \"))\n",
    "    b = float(input(\"second number is \"))\n",
    "    operator = input(\"operator type is \")\n",
    "    print('{} {} {} = {}'.format(a, operator, b, calc(a,b,operator)))\n",
    "    \n",
    "operate_calculator()"
   ]
  },
  {
   "cell_type": "markdown",
   "metadata": {},
   "source": [
    "# 실습문제 3 : Card game with betting\n",
    "---\n",
    "\n"
   ]
  },
  {
   "cell_type": "code",
   "execution_count": 3,
   "metadata": {},
   "outputs": [
    {
     "name": "stdout",
     "output_type": "stream",
     "text": [
      "\u001b[34m\n",
      "*** 1 th game start ***\n",
      "Your chips = 100\n",
      "dealer's chips = 100\u001b[0m\n",
      "Your card ---> [ 1 , 8 ]\n",
      "dealer's card ---> [ 7 , * ]\n",
      "how much do you bet? less than 100 chips\n",
      "You bet = 100\n",
      "You bet 100 chips\n",
      "how much do you bet? less than 100 chips\n",
      "You bet = 0\n",
      "You bet 100 chips\n",
      "Dealer WON 200 chips\n",
      "\u001b[31m\n",
      "Dealer WON all the chips!!!\n"
     ]
    }
   ],
   "source": [
    "import random\n",
    "\n",
    "C_END    = \"\\033[0m\"\n",
    "C_RED    = \"\\033[31m\"\n",
    "C_BLUE   = \"\\033[34m\"\n",
    "\n",
    "# 베팅 게임 한판을 돌리는 함수\n",
    "def play_with_betting(my_chip, dealer_chip, card):\n",
    "    # 카드가 없으면 카드를 생성\n",
    "    if card == []:\n",
    "        card = list(range(1,12))*4\n",
    "        random.shuffle(card)\n",
    "    \n",
    "    # 카드를 나눠주고, 사용한 카드는 제거\n",
    "    my_card = []\n",
    "    dealer_card = []\n",
    "    for i in range(2):\n",
    "        my_card.append(card[2*i])\n",
    "        dealer_card.append(card[2*i+1])\n",
    "    card[0:5] = []\n",
    "    \n",
    "    # 현재 카드 상태를 보여줌\n",
    "    print(\"Your card ---> [ {} , {} ]\".format(my_card[0], my_card[1]))\n",
    "    print(\"dealer's card ---> [ {} , * ]\".format(dealer_card[0]))\n",
    "    \n",
    "    # 베팅\n",
    "    bet_chip = [200 - my_chip - dealer_chip, 0]\n",
    "    if bet_chip[0] != 0:\n",
    "        print(\"There are {} chips from last game!\".format(bet_chip[0]))\n",
    "    min_chip = min(my_chip, dealer_chip)\n",
    "    bet = True    \n",
    "    while bet_chip[1] <= min_chip and bet:\n",
    "        print(\"how much do you bet? less than {} chips\".format(min_chip))\n",
    "        bet = int(input(\"You bet = \"))\n",
    "        bet_chip[1] += bet\n",
    "        print(\"You bet {} chips\".format(bet_chip[1]))\n",
    "        bet = bool(bet)\n",
    "    my_chip -= bet_chip[1]\n",
    "    dealer_chip -= bet_chip[1]\n",
    "    \n",
    "    # 결과에 따라 금액을 나눔\n",
    "    if sum(my_card) > sum(dealer_card):\n",
    "        my_chip += bet_chip[0] + 2*bet_chip[1]\n",
    "        print(\"You WON {} chips\".format(bet_chip[0] + 2*bet_chip[1]))\n",
    "    if sum(my_card) < sum(dealer_card):\n",
    "        dealer_chip += bet_chip[0] + 2*bet_chip[1]\n",
    "        print(\"Dealer WON {} chips\".format(bet_chip[0] + 2*bet_chip[1]))\n",
    "    \n",
    "    # 결과 반환\n",
    "    return my_chip, dealer_chip, card\n",
    "    \n",
    "# 칩이 0이 될 때까지 베팅게임을 하는 함수\n",
    "def card_game():\n",
    "    my_chip, dealer_chip = 100, 100\n",
    "    card = []\n",
    "    nth_game = 0\n",
    "    \n",
    "    while my_chip != 0 and dealer_chip != 0:\n",
    "        nth_game += 1\n",
    "        print(C_BLUE + \"\\n*** {} th game start ***\".format(nth_game))\n",
    "        print(\"Your chips = {}\".format(my_chip))\n",
    "        print(\"dealer's chips = {}\".format(dealer_chip) + C_END)\n",
    "        my_chip, dealer_chip, card = play_with_betting(my_chip, dealer_chip, card)\n",
    "    \n",
    "    me = bool(my_chip)\n",
    "    dealer = bool(dealer_chip)\n",
    "    print(C_RED + \"\\nI\"*me + \"\\nDealer\"*dealer + \" WON all the chips!!!\" + C_END)\n",
    "    #print(\"I\"*(not me) + \"Dealer\"*(not dealer) + \" LOST all the chips...\" + C_END) \n",
    "        \n",
    "card_game()"
   ]
  },
  {
   "cell_type": "code",
   "execution_count": null,
   "metadata": {},
   "outputs": [],
   "source": []
  },
  {
   "cell_type": "code",
   "execution_count": null,
   "metadata": {},
   "outputs": [],
   "source": []
  }
 ],
 "metadata": {
  "kernelspec": {
   "display_name": "Python 3",
   "language": "python",
   "name": "python3"
  },
  "language_info": {
   "codemirror_mode": {
    "name": "ipython",
    "version": 3
   },
   "file_extension": ".py",
   "mimetype": "text/x-python",
   "name": "python",
   "nbconvert_exporter": "python",
   "pygments_lexer": "ipython3",
   "version": "3.6.0"
  }
 },
 "nbformat": 4,
 "nbformat_minor": 2
}
