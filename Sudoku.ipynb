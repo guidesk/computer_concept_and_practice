{
 "cells": [
  {
   "cell_type": "markdown",
   "metadata": {},
   "source": [
    "Sudoku Solution\n",
    "===\n",
    "스도쿠를 풀어주는 코드를 만들어보자!"
   ]
  },
  {
   "cell_type": "code",
   "execution_count": 14,
   "metadata": {},
   "outputs": [
    {
     "name": "stdout",
     "output_type": "stream",
     "text": [
      "hello!\n",
      "\u001b[1mhello!\u001b[0m\n",
      "\u001b[94mhello!\u001b[0m\n",
      "\u001b[91mhello!\u001b[0m\n"
     ]
    }
   ],
   "source": [
    "class color:\n",
    "   PURPLE = '\\033[95m'\n",
    "   CYAN = '\\033[96m'\n",
    "   DARKCYAN = '\\033[36m'\n",
    "   BLUE = '\\033[94m'\n",
    "   GREEN = '\\033[92m'\n",
    "   YELLOW = '\\033[93m'\n",
    "   RED = '\\033[91m'\n",
    "   BOLD = '\\033[1m'\n",
    "   UNDERLINE = '\\033[4m'\n",
    "   END = '\\033[0m'\n",
    "    \n",
    "print('hello!')\n",
    "print(color.BOLD + 'hello!' + color.END)\n",
    "print(color.BLUE + 'hello!' + color.END)\n",
    "print(color.RED + 'hello!' + color.END)"
   ]
  },
  {
   "cell_type": "code",
   "execution_count": 73,
   "metadata": {},
   "outputs": [],
   "source": [
    "class Sudoku:\n",
    "    def __init__(self, problem, N=9):\n",
    "        self.size = N\n",
    "        self.cell_size = int(N**0.5)\n",
    "        self.problem = problem\n",
    "        self.solution = problem\n",
    "        n = self.cell_size\n",
    "        self.box = [[n*(i//n) + (j//n) + 1 for j in range(self.size)] for i in range(self.size)]\n",
    "                \n",
    "    def __str__(self):\n",
    "        sudoku_str = 'Sudoku Problem(Blue) and Solution\\n'\n",
    "        for i in range(self.size):\n",
    "            for j in range(self.size):\n",
    "                if self.solution[i][j] == self.problem[i][j] and self.solution[i][j] != 0:\n",
    "                    sudoku_str += color.BLUE + '{} '.format(self.solution[i][j]) + color.END\n",
    "                else:\n",
    "                    sudoku_str += '{} '.format(self.solution[i][j])\n",
    "            sudoku_str += '\\n'\n",
    "        \n",
    "        return sudoku_str"
   ]
  },
  {
   "cell_type": "code",
   "execution_count": 74,
   "metadata": {},
   "outputs": [
    {
     "name": "stdout",
     "output_type": "stream",
     "text": [
      "[[9, 8, 4, 0, 3, 1, 0, 7, 2], [6, 1, 0, 0, 0, 7, 0, 0, 0], [2, 5, 7, 0, 0, 9, 8, 0, 0], [3, 0, 0, 0, 6, 0, 0, 1, 0], [0, 0, 0, 3, 7, 0, 9, 2, 0], [0, 0, 9, 0, 0, 5, 0, 0, 0], [0, 3, 0, 0, 0, 6, 0, 0, 0], [0, 4, 5, 0, 1, 8, 0, 9, 6], [1, 9, 6, 7, 0, 0, 2, 8, 0]]\n"
     ]
    }
   ],
   "source": [
    "# Problems of Sudoku\n",
    "EASY_PROBLEM = [[9, 8, 4, 0, 3, 1, 0, 7, 2],\n",
    "                [6, 1, 0, 0, 0, 7, 0, 0, 0],\n",
    "                [2, 5, 7, 0, 0, 9, 8, 0, 0],\n",
    "                [3, 0, 0, 0, 6, 0, 0, 1, 0],\n",
    "                [0, 0, 0, 3, 7, 0, 9, 2, 0], \n",
    "                [0, 0, 9, 0, 0, 5, 0, 0, 0], \n",
    "                [0, 3, 0, 0, 0, 6, 0, 0, 0], \n",
    "                [0, 4, 5, 0, 1, 8, 0, 9, 6], \n",
    "                [1, 9, 6, 7, 0, 0, 2, 8, 0]]\n",
    "\n",
    "print(EASY_PROBLEM)"
   ]
  },
  {
   "cell_type": "code",
   "execution_count": 75,
   "metadata": {},
   "outputs": [
    {
     "name": "stdout",
     "output_type": "stream",
     "text": [
      "Sudoku Problem(Blue) and Solution\n",
      "\u001b[94m9 \u001b[0m\u001b[94m8 \u001b[0m\u001b[94m4 \u001b[0m0 \u001b[94m3 \u001b[0m\u001b[94m1 \u001b[0m0 \u001b[94m7 \u001b[0m\u001b[94m2 \u001b[0m\n",
      "\u001b[94m6 \u001b[0m\u001b[94m1 \u001b[0m0 0 0 \u001b[94m7 \u001b[0m0 0 0 \n",
      "\u001b[94m2 \u001b[0m\u001b[94m5 \u001b[0m\u001b[94m7 \u001b[0m0 0 \u001b[94m9 \u001b[0m\u001b[94m8 \u001b[0m0 0 \n",
      "\u001b[94m3 \u001b[0m0 0 0 \u001b[94m6 \u001b[0m0 0 \u001b[94m1 \u001b[0m0 \n",
      "0 0 0 \u001b[94m3 \u001b[0m\u001b[94m7 \u001b[0m0 \u001b[94m9 \u001b[0m\u001b[94m2 \u001b[0m0 \n",
      "0 0 \u001b[94m9 \u001b[0m0 0 \u001b[94m5 \u001b[0m0 0 0 \n",
      "0 \u001b[94m3 \u001b[0m0 0 0 \u001b[94m6 \u001b[0m0 0 0 \n",
      "0 \u001b[94m4 \u001b[0m\u001b[94m5 \u001b[0m0 \u001b[94m1 \u001b[0m\u001b[94m8 \u001b[0m0 \u001b[94m9 \u001b[0m\u001b[94m6 \u001b[0m\n",
      "\u001b[94m1 \u001b[0m\u001b[94m9 \u001b[0m\u001b[94m6 \u001b[0m\u001b[94m7 \u001b[0m0 0 \u001b[94m2 \u001b[0m\u001b[94m8 \u001b[0m0 \n",
      "\n",
      "[[1, 1, 1, 2, 2, 2, 3, 3, 3], [1, 1, 1, 2, 2, 2, 3, 3, 3], [1, 1, 1, 2, 2, 2, 3, 3, 3], [4, 4, 4, 5, 5, 5, 6, 6, 6], [4, 4, 4, 5, 5, 5, 6, 6, 6], [4, 4, 4, 5, 5, 5, 6, 6, 6], [7, 7, 7, 8, 8, 8, 9, 9, 9], [7, 7, 7, 8, 8, 8, 9, 9, 9], [7, 7, 7, 8, 8, 8, 9, 9, 9]]\n"
     ]
    }
   ],
   "source": [
    "a = Sudoku(EASY_PROBLEM)\n",
    "print(a)\n",
    "print(a.box)"
   ]
  },
  {
   "cell_type": "code",
   "execution_count": null,
   "metadata": {},
   "outputs": [],
   "source": []
  }
 ],
 "metadata": {
  "kernelspec": {
   "display_name": "Python 3",
   "language": "python",
   "name": "python3"
  },
  "language_info": {
   "codemirror_mode": {
    "name": "ipython",
    "version": 3
   },
   "file_extension": ".py",
   "mimetype": "text/x-python",
   "name": "python",
   "nbconvert_exporter": "python",
   "pygments_lexer": "ipython3",
   "version": "3.6.5"
  }
 },
 "nbformat": 4,
 "nbformat_minor": 2
}
