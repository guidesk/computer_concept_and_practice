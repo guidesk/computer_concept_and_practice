{
 "cells": [
  {
   "cell_type": "markdown",
   "metadata": {},
   "source": [
    "04월 12일 목요일 : 예외처리\n",
    "===\n",
    "하늘이 맑다. 수업을 듣고 있다고 우울해지지말자!\n",
    "\n",
    "# 에러 발생 예시\n",
    "---\n",
    "1. 즉시 프로그램이 종료됨\n",
    "2. Traceback 출력\n",
    "    * 에러가 발생한 부분과 해당 함수를 호출했던 부분들을 거슬러 올라가 이를 모두 나열함."
   ]
  },
  {
   "cell_type": "code",
   "execution_count": 5,
   "metadata": {},
   "outputs": [
    {
     "data": {
      "text/plain": [
       "'3+4'"
      ]
     },
     "execution_count": 5,
     "metadata": {},
     "output_type": "execute_result"
    }
   ],
   "source": [
    "eval(\"'3+4'\")"
   ]
  },
  {
   "cell_type": "code",
   "execution_count": 9,
   "metadata": {},
   "outputs": [
    {
     "name": "stdout",
     "output_type": "stream",
     "text": [
      "Height is not int or float...\n"
     ]
    }
   ],
   "source": [
    "class Rectangle():\n",
    "    def __init__(self, height, width):\n",
    "        if type(height) is int or type(height) is float:\n",
    "            raise Exception(\"Height is not int or float...\")\n",
    "            \n",
    "        if height <= 0:\n",
    "            raise Exception(\"Height is not positive...\")\n",
    "            \n",
    "        if type(width) is int or type(width) is float:\n",
    "            raise Exception(\"Width is not int or float...\")\n",
    "            \n",
    "        if width <= 0:\n",
    "            raise Exception(\"Width is not positive...\")\n",
    "        \n",
    "        self.height = height\n",
    "        self.width = width\n",
    "        \n",
    "try:\n",
    "    a = Rectangle(1,3)\n",
    "    #b = Rectangle(2,-1)\n",
    "    c = Rectangle('int',1)\n",
    "except Exception as ex:\n",
    "    print(ex)"
   ]
  },
  {
   "cell_type": "code",
   "execution_count": 27,
   "metadata": {},
   "outputs": [
    {
     "name": "stdout",
     "output_type": "stream",
     "text": [
      "0\n",
      "No exceptions\n"
     ]
    }
   ],
   "source": [
    "class ZeroDivideZeroError(ZeroDivisionError):\n",
    "    def __init__(self):\n",
    "        super().__init__()\n",
    "    \n",
    "def int_division(num1, num2):\n",
    "    if not isinstance(num1, int) or not isinstance(num2, int):\n",
    "        raise TypeError()\n",
    "    \n",
    "    if num1==0 and num2==0:\n",
    "        raise ZeroDivideZeroError()\n",
    "    \n",
    "    if num2 == 0:\n",
    "        raise ZeroDivisionError()\n",
    "        \n",
    "    return num1//num2\n",
    "\n",
    "try:\n",
    "    a = int_division(0,2)\n",
    "    print(a)\n",
    "except TypeError:\n",
    "    print(\"TypeError\")\n",
    "except ZeroDivideZeroError:\n",
    "    print(\"can not divide 0 by 0\")\n",
    "except ZeroDivisionError:\n",
    "    print(\"can not divide a number by 0\")\n",
    "except Exception:\n",
    "    print(\"exception occured\")\n",
    "else:\n",
    "    print(\"No exceptions\")"
   ]
  },
  {
   "cell_type": "code",
   "execution_count": null,
   "metadata": {},
   "outputs": [],
   "source": []
  }
 ],
 "metadata": {
  "kernelspec": {
   "display_name": "Python 3",
   "language": "python",
   "name": "python3"
  },
  "language_info": {
   "codemirror_mode": {
    "name": "ipython",
    "version": 3
   },
   "file_extension": ".py",
   "mimetype": "text/x-python",
   "name": "python",
   "nbconvert_exporter": "python",
   "pygments_lexer": "ipython3",
   "version": "3.6.0"
  }
 },
 "nbformat": 4,
 "nbformat_minor": 2
}
