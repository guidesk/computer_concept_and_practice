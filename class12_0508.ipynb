{
 "cells": [
  {
   "cell_type": "markdown",
   "metadata": {},
   "source": [
    "05월 08일 화요일 : 실습\n",
    "===\n",
    "이제까지 배운 function 의 개념을 이용하여, 실습을 통해 적용해보자!"
   ]
  },
  {
   "cell_type": "code",
   "execution_count": 24,
   "metadata": {},
   "outputs": [],
   "source": [
    "class Machine():\n",
    "    def __init__(self, x_speed, y_speed):\n",
    "        self.x_pos = -1\n",
    "        self.y_pos = -1\n",
    "        self.x_speed = x_speed\n",
    "        self.y_speed = y_speed\n",
    "    \n",
    "    def move_to(self, x_pos, y_pos):\n",
    "        self.x_pos = x_pos\n",
    "        self.y_pos = y_pos\n",
    "    \n",
    "    def move_time(self, x_pos, y_pos):\n",
    "        time = abs(x_pos - self.x_pos)/self.x_speed\n",
    "        time += abs(y_pos - self.y_pos)/self.y_speed\n",
    "        return time\n",
    "    \n",
    "    def move_to_init(self):\n",
    "        self.move_to(-1,-1)\n",
    "        \n",
    "    def __str__(self):\n",
    "        return \"{}, {}\".format(self.x_pos, self.y_pos)"
   ]
  },
  {
   "cell_type": "code",
   "execution_count": 25,
   "metadata": {},
   "outputs": [],
   "source": [
    "class Rack():\n",
    "    def __init__(self, x_size, y_size):\n",
    "        self.x_size = x_size\n",
    "        self.y_size = y_size\n",
    "        self.cells = {}\n",
    "        for x in range(x_size):\n",
    "            for y in range(y_size):\n",
    "                self.cells[(x,y)] = \"X\"\n",
    "        \n",
    "    def __str__(self):\n",
    "        result_str = \"\"\n",
    "        for y in range(self.y_size)[::-1]:\n",
    "            y_cells_list = [self.cells[(x,y)] for x in range(self.x_size)]\n",
    "            result_str += \" \".join(y_cells_list) + \"\\n\"\n",
    "        return result_str"
   ]
  },
  {
   "cell_type": "code",
   "execution_count": 26,
   "metadata": {},
   "outputs": [
    {
     "name": "stdout",
     "output_type": "stream",
     "text": [
      "X X X X X\n",
      "X X X X X\n",
      "X X X X X\n",
      "X X X X X\n",
      "X X X X X\n",
      "X X X X X\n",
      "\n"
     ]
    }
   ],
   "source": [
    "a = Rack(5,6)\n",
    "print(a)"
   ]
  },
  {
   "cell_type": "code",
   "execution_count": 27,
   "metadata": {},
   "outputs": [],
   "source": [
    "class ASRS_Rack(Rack):\n",
    "    def __init__(self, x_size, y_size):\n",
    "        super().__init__(x_size,y_size)\n",
    "        \n",
    "    def search_product(self, product_name):\n",
    "        result_list = [position for position in self.cells.keys() if self.cells[position] == product_name]\n",
    "        return result_list"
   ]
  },
  {
   "cell_type": "code",
   "execution_count": 13,
   "metadata": {},
   "outputs": [
    {
     "name": "stdout",
     "output_type": "stream",
     "text": [
      "X X X\n",
      "X X X\n",
      "X X X\n",
      "X X X\n",
      "\n"
     ]
    },
    {
     "data": {
      "text/plain": [
       "[(0, 0),\n",
       " (0, 1),\n",
       " (0, 2),\n",
       " (0, 3),\n",
       " (1, 0),\n",
       " (1, 1),\n",
       " (1, 2),\n",
       " (1, 3),\n",
       " (2, 0),\n",
       " (2, 1),\n",
       " (2, 2),\n",
       " (2, 3)]"
      ]
     },
     "execution_count": 13,
     "metadata": {},
     "output_type": "execute_result"
    }
   ],
   "source": [
    "rack1 = ASRS_Rack(3,4)\n",
    "print(rack1)\n",
    "rack1.search_product(\"X\")"
   ]
  },
  {
   "cell_type": "code",
   "execution_count": 31,
   "metadata": {},
   "outputs": [],
   "source": [
    "class Crane(Machine):\n",
    "    def __init__(self, x_speed, y_speed, shuttle_size):\n",
    "        super().__init__(x_speed,y_speed)\n",
    "        self.shuttle_size = shuttle_size\n",
    "        self.shuttle = [\"X\"] * shuttle_size\n",
    "        \n",
    "    def has_product(self, product_name):\n",
    "        for idx in range(self.shuttle_size):\n",
    "            if self.shuttle[idx] == product_name:\n",
    "                return idx\n",
    "    \n",
    "    def store(self, rack, product_name):\n",
    "        if self.has_product(product_name):\n",
    "            self.shuttle[self.has_product(product_name)] = \"X\"\n",
    "            rack.cells[(self.x_pos, self,y_pos)] = product_name\n",
    "            print(\"product {} is stored at ({},{})!\".format(product_name, self.x_pos, self.y_pos))\n",
    "        \n",
    "    def retrieve(self, rack):\n",
    "        if self.has_product(\"X\"):\n",
    "            self.shuttle[self.has_product(\"X\")] = rack.cells[(self.x_pos, self.y_pos)]\n",
    "            rack.cells[(self.x_pos, self.y_pos)] = \"X\"\n",
    "            print(\"product {} is retrieved from ({},{})!\".format(self.shuttle[self.has_product(\"X\")], self.x_pos, self.y_pos))\n",
    "    \n",
    "    def load(self, product_name):\n",
    "        if self.has_product(\"X\"):\n",
    "            self.shuttle[self.has_product(\"X\")] = product_name\n",
    "            print(\"product {} is loaded!\".format(product_name))\n",
    "    \n",
    "    def release(self):\n",
    "        self.shuttle = [\"X\" for i in range(self.shuttle_size)]\n",
    "        print(\"all product are released!\")\n",
    "    \n",
    "    def __str__(self):\n",
    "        return \"crate at ({},{}) with {}\".format(self.x_pos, self.y_pos, self.shuttle)"
   ]
  },
  {
   "cell_type": "code",
   "execution_count": 32,
   "metadata": {},
   "outputs": [
    {
     "name": "stdout",
     "output_type": "stream",
     "text": [
      "crate at (-1,-1) with ['X', 'X', 'X']\n"
     ]
    }
   ],
   "source": [
    "crane1 = Machine(2.0, 3.0)\n",
    "crane1 = Crane(1,2,3)\n",
    "print(crane1)"
   ]
  },
  {
   "cell_type": "code",
   "execution_count": 41,
   "metadata": {},
   "outputs": [],
   "source": [
    "class ASRS_system():\n",
    "    def __init__(self, rack, crane):\n",
    "        self.rack = rack\n",
    "        self.crane = crane\n",
    "    \n",
    "    def start_cycle(self, names, srs):\n",
    "        if \"S\" in srs:\n",
    "            print(self.crane)\n",
    "            for idx in range(len(srs)):\n",
    "                if srs[idx] == \"S\":\n",
    "                    self.crane.load(names[idx])\n",
    "            print(self.crane)\n",
    "                \n",
    "    def end_cycle(self, srs):\n",
    "        self.crane.move_to_init()\n",
    "        if \"R\" in srs:\n",
    "            print(self.crane)\n",
    "            self.crane.release()\n",
    "            print(self.crane)\n",
    "    \n",
    "    def operate_cycle(self, names, srs):\n",
    "        for idx in range(self.crane.shuttle_size):\n",
    "            if srs[idx] == \"S\":\n",
    "                cells_pos = self.rack.search_product(\"X\")[0]\n",
    "                self.crane.move_to(cells_pos[0], cells_pos[1])\n",
    "                self.crane.store(self.rack, names[idx])\n",
    "            if srs[idx] == \"R\":\n",
    "                cells_pos = self.rack.search_product(names[idx])[0]\n",
    "                self.crane.move_to(cells_pos[0], cells_pos[1])\n",
    "                self.crane.retrieve(self.rack)\n",
    "                \n",
    "    def operate_system(self, names, srs):\n",
    "        min_len = min(len(names), len(srs))\n",
    "        num_cycles = min_len // self.crane.shuttle_size\n",
    "        \n",
    "        min_len = num_cycles * self.crane.shuttle_size\n",
    "        names, srs = names[:min_len], srs[:min_len]\n",
    "        \n",
    "        print(self.rack)\n",
    "        for cycle_idx in range(num_cycles):\n",
    "            print(cycle_idx)\n",
    "            seq_idx = cycle_idx * self.crane.shuttle_size\n",
    "            cycle_names = names[seq_idx : seq_idx + self.crane.shuttle_size]\n",
    "            cycle_srs = srs[seq_idx : seq_idx + self.crane.shuttle_size]\n",
    "            \n",
    "            self.start_cycle(cycle_names, cycle_srs)\n",
    "            self.operate_cycle(cycle_names, cycle_srs)\n",
    "            self.end_cycle(cycle_srs)\n",
    "            print(self.rack)"
   ]
  },
  {
   "cell_type": "code",
   "execution_count": null,
   "metadata": {},
   "outputs": [],
   "source": []
  }
 ],
 "metadata": {
  "kernelspec": {
   "display_name": "Python 3",
   "language": "python",
   "name": "python3"
  },
  "language_info": {
   "codemirror_mode": {
    "name": "ipython",
    "version": 3
   },
   "file_extension": ".py",
   "mimetype": "text/x-python",
   "name": "python",
   "nbconvert_exporter": "python",
   "pygments_lexer": "ipython3",
   "version": "3.6.0"
  }
 },
 "nbformat": 4,
 "nbformat_minor": 2
}
