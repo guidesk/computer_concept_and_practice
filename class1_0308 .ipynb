{
 "cells": [
  {
   "cell_type": "markdown",
   "metadata": {},
   "source": [
    "# 파이썬을 작업하는 이유\n",
    "---\n",
    "요즘에는 프로그래밍으로 통해서 machine learning 을 하기 위해서 많이 써왔다. 산업 분야에서도 많이 쓰게 되었다.\n",
    "이번 시간에는 python 자료 구조에 대한 간단한 이야기에 대해서 알아보자. python 은 인터프리터(interpreter) 언어!\n",
    "\n",
    "\n",
    "# JAVA\n",
    "---\n",
    "기존의 os에 따라 작동의 유무가 달라졌던 문제를 해결하였다. JVM(Java Virtual Machine) 을 만들어서 가상환경을 설정하였다.\n",
    "\n",
    "# Python\n",
    "---\n",
    "세상은 너무 짧다! 그래서 파이썬이 필요하다!\n",
    "Glue language : C/C++ 모두 수용가능."
   ]
  },
  {
   "cell_type": "code",
   "execution_count": 1,
   "metadata": {},
   "outputs": [
    {
     "name": "stdout",
     "output_type": "stream",
     "text": [
      "Hello, World!\n"
     ]
    }
   ],
   "source": [
    "print(\"Hello, World!\")"
   ]
  },
  {
   "cell_type": "code",
   "execution_count": 2,
   "metadata": {},
   "outputs": [
    {
     "name": "stdout",
     "output_type": "stream",
     "text": [
      "class1_0308 .ipynb\r\n"
     ]
    },
    {
     "data": {
      "text/plain": [
       "'/Users/KangSooSang/guidesk/computer_concept_and_practice'"
      ]
     },
     "execution_count": 2,
     "metadata": {},
     "output_type": "execute_result"
    }
   ],
   "source": [
    "%ls\n",
    "%pwd"
   ]
  },
  {
   "cell_type": "code",
   "execution_count": 16,
   "metadata": {},
   "outputs": [
    {
     "data": {
      "text/plain": [
       "array([0., 0., 0., 0., 0., 0., 0., 0., 0., 0.])"
      ]
     },
     "execution_count": 16,
     "metadata": {},
     "output_type": "execute_result"
    }
   ],
   "source": [
    "import matplotlib.pyplot as plt\n",
    "import numpy as np\n",
    "\n",
    "x = np.zeros(10)\n",
    "y = np.sin(x)"
   ]
  },
  {
   "cell_type": "code",
   "execution_count": null,
   "metadata": {},
   "outputs": [],
   "source": []
  }
 ],
 "metadata": {
  "kernelspec": {
   "display_name": "Python 3",
   "language": "python",
   "name": "python3"
  },
  "language_info": {
   "codemirror_mode": {
    "name": "ipython",
    "version": 3
   },
   "file_extension": ".py",
   "mimetype": "text/x-python",
   "name": "python",
   "nbconvert_exporter": "python",
   "pygments_lexer": "ipython3",
   "version": "3.6.0"
  }
 },
 "nbformat": 4,
 "nbformat_minor": 2
}
