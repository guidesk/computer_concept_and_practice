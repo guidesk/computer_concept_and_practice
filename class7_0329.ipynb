{
 "cells": [
  {
   "cell_type": "markdown",
   "metadata": {},
   "source": [
    "03월 29일 목요일 : Objects and Class\n",
    "===\n",
    "여전히 미세먼지가 뿌연 날씨가 이어진다. 실습평가를 잘 못했더라도 힘내자! 배울껀 많다.\n",
    "\n",
    "# 객체 지향 & 절차 지향\n",
    "---\n",
    "객체를 만들어서 이 개게들 간의 메세지 교환으로 그 문제를 해결한다.\n",
    "\n"
   ]
  },
  {
   "cell_type": "code",
   "execution_count": 1,
   "metadata": {},
   "outputs": [
    {
     "ename": "SyntaxError",
     "evalue": "unexpected EOF while parsing (<ipython-input-1-38a2a49bb329>, line 6)",
     "output_type": "error",
     "traceback": [
      "\u001b[0;36m  File \u001b[0;32m\"<ipython-input-1-38a2a49bb329>\"\u001b[0;36m, line \u001b[0;32m6\u001b[0m\n\u001b[0;31m    \u001b[0m\n\u001b[0m    ^\u001b[0m\n\u001b[0;31mSyntaxError\u001b[0m\u001b[0;31m:\u001b[0m unexpected EOF while parsing\n"
     ]
    }
   ],
   "source": [
    "class MyFirstClass:\n",
    "    def __init__(self,number):\n",
    "        self.number = number\n",
    "        self.att = 'hello'\n",
    "    def print_hello(self):\n",
    "        "
   ]
  },
  {
   "cell_type": "code",
   "execution_count": 6,
   "metadata": {},
   "outputs": [
    {
     "name": "stdout",
     "output_type": "stream",
     "text": [
      "soosang\n",
      "20\n"
     ]
    }
   ],
   "source": [
    "class SimpleClass:\n",
    "    def __init__(self,name,age):\n",
    "        self.name = name\n",
    "        self.age = age\n",
    "        \n",
    "    def print_name(self):\n",
    "        print(self.name)\n",
    "        \n",
    "    def print_age(self):\n",
    "        print(self.age)\n",
    "        \n",
    "Kang = SimpleClass('soosang',20)\n",
    "Kang.print_name()\n",
    "Kang.print_age()"
   ]
  },
  {
   "cell_type": "code",
   "execution_count": 12,
   "metadata": {},
   "outputs": [
    {
     "name": "stdout",
     "output_type": "stream",
     "text": [
      "17\n",
      "3\n",
      "70\n",
      "1.4285714285714286\n"
     ]
    }
   ],
   "source": [
    "class SimpleCalculator:\n",
    "    def __init__(self,number1,number2):\n",
    "        self.number1 = number1\n",
    "        self.number2 = number2\n",
    "    def addition(self):\n",
    "        print(self.number1 + self.number2)\n",
    "    def subtraction(self):\n",
    "        print(self.number1 - self.number2)\n",
    "    def multiplication(self):\n",
    "        print(self.number1 * self.number2)\n",
    "    def division(self):\n",
    "        print(self.number1 / self.number2)\n",
    "        \n",
    "clc = SimpleCalculator(10,7)\n",
    "clc.addition()\n",
    "clc.subtraction()\n",
    "clc.multiplication()\n",
    "clc.division()"
   ]
  },
  {
   "cell_type": "code",
   "execution_count": null,
   "metadata": {},
   "outputs": [],
   "source": [
    "import random\n",
    "\n",
    "class Player:\n",
    "    def __init__(self):\n",
    "        self.num_wins = 0\n",
    "        self.hand = ''\n",
    "    def play(self):\n",
    "        i = random.randint(1,3)\n",
    "        if i == 1:\n",
    "            self.hand = 'rock'\n",
    "        elif i == 2:\n",
    "            self.hand = 'paper'\n",
    "        else:\n",
    "            self.hand = 'scissors'\n",
    "    def feedback(self,opponent):\n",
    "        if self.hand == opponent.hand:\n",
    "            print('draw')\n",
    "        if "
   ]
  }
 ],
 "metadata": {
  "kernelspec": {
   "display_name": "Python 3",
   "language": "python",
   "name": "python3"
  },
  "language_info": {
   "codemirror_mode": {
    "name": "ipython",
    "version": 3
   },
   "file_extension": ".py",
   "mimetype": "text/x-python",
   "name": "python",
   "nbconvert_exporter": "python",
   "pygments_lexer": "ipython3",
   "version": "3.6.0"
  }
 },
 "nbformat": 4,
 "nbformat_minor": 2
}
