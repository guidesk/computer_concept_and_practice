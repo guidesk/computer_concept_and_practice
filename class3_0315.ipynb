{
 "cells": [
  {
   "cell_type": "markdown",
   "metadata": {},
   "source": [
    "03월 15일 목요일 : 실습\n",
    "===\n",
    "흐린 날씨지만 파이썬은 맑다.\n",
    "\n",
    "**실습해보자!**"
   ]
  },
  {
   "cell_type": "markdown",
   "metadata": {},
   "source": [
    "# 실습 문제1 : String in the box\n",
    "---\n",
    "다음의 조건을 만족하는 결과를 출력하도록 파이썬 코드를 작성해보자.\n",
    "1. 임의의 문자열을 입력받는다.\n",
    "2. 입력값을 기호로 둘러싼 형태로 출력한다.\n",
    "     * 입력값 위에는 `-`와 `+`가 번갈아 나타나게 한다.\n",
    "     * 입력값 아래에는 `+`와 `-`가 번갈아 나타나게 한다.\n",
    "     * 입력값 양 옆에는 `|`기호가 나타나게 한다.\n",
    "\n",
    "## 예시\n",
    "입력 : `abcd`\n",
    "\n",
    "출력 :\n",
    "```\n",
    "-+-+-+\n",
    "|abcd|\n",
    "+-+-+-\n",
    "```"
   ]
  },
  {
   "cell_type": "code",
   "execution_count": 1,
   "metadata": {},
   "outputs": [
    {
     "name": "stdout",
     "output_type": "stream",
     "text": [
      "Give any string = Lorentz\n",
      "-+-+-+-+-\n",
      "|Lorentz|\n",
      "+-+-+-+-+\n"
     ]
    }
   ],
   "source": [
    "something = input(\"Give any string = \")\n",
    "length = len(something)\n",
    "a = int(length/2+1)\n",
    "b = length%2\n",
    "\n",
    "print('-+'*a + '-'*b)\n",
    "print('|%s|' %something)\n",
    "print('+-'*a + '+'*b)"
   ]
  },
  {
   "cell_type": "markdown",
   "metadata": {},
   "source": [
    "# 실습 문제 2 : Points inside ellipse\n",
    "---\n",
    "다음의 조건을 만족하는 결과를 출력하도록 파이썬 코드를 작성해보자.\n",
    "1. 임의의 두 양의 정수, `a`와 `b`를 입력받는다.\n",
    "2. 타원 내부에 포함되는 정수 격자점 좌표를 모두 출력한다.(타원 위의 점도 내부로 간주)\n",
    "\n",
    "## 예시\n",
    "입력 : `a = 2, b = 3`\n",
    "\n",
    "출력 :\n",
    "```\n",
    "[0, 0], [0, 1], [0, 1], [0, -1], [0, -1], [0, 2], [0, 2], [0, -2], [0, -2], [0, 3], [0, 3], [0, -3], [0, -3], [1, 0], [-1, 0], [1, 0], [-1, 0], [1, 1], [-1, 1], [1, -1], [-1, -1], [1, 2], [-1, 2], [1, -2], [-1, -2], [2, 0], [-2, 0], [2, 0], [-2, 0]\n",
    "```"
   ]
  },
  {
   "cell_type": "code",
   "execution_count": 18,
   "metadata": {},
   "outputs": [
    {
     "name": "stdout",
     "output_type": "stream",
     "text": [
      "a is 4\n",
      "b is 3\n",
      "[[0, 0], [0, 1], [0, -1], [0, 2], [0, -2], [0, 3], [0, -3], [1, 0], [-1, 0], [1, 1], [-1, 1], [1, -1], [-1, -1], [1, 2], [-1, 2], [1, -2], [-1, -2], [2, 0], [-2, 0], [2, 1], [-2, 1], [2, -1], [-2, -1], [2, 2], [-2, 2], [2, -2], [-2, -2], [3, 0], [-3, 0], [3, 1], [-3, 1], [3, -1], [-3, -1], [4, 0], [-4, 0]]\n"
     ]
    },
    {
     "data": {
      "text/plain": [
       "[<matplotlib.lines.Line2D at 0x10fe75d30>]"
      ]
     },
     "execution_count": 18,
     "metadata": {},
     "output_type": "execute_result"
    },
    {
     "data": {
      "image/png": "[encoded data removed]",
      "text/plain": [
       "<Figure size 432x288 with 1 Axes>"
      ]
     },
     "metadata": {},
     "output_type": "display_data"
    }
   ],
   "source": [
    "a = int(input(\"a is \"))\n",
    "b = int(input(\"b is \"))\n",
    "\n",
    "# 'points' : points inside ellipse & 'points_not' : points outside ellipse \n",
    "points = []\n",
    "points_not = []\n",
    "for i in range(a+1):\n",
    "    for j in range(b+1):\n",
    "        if (i/a)**2+(j/b)**2 <= 1:\n",
    "            if i==0 and j==0:\n",
    "                points.append([0,0])\n",
    "            elif i==0:\n",
    "                points.append([i,j])\n",
    "                points.append([i,-j])\n",
    "            elif j==0:\n",
    "                points.append([i,j])\n",
    "                points.append([-i,j])\n",
    "            else:\n",
    "                points.append([i,j])\n",
    "                points.append([-i,j])\n",
    "                points.append([i,-j])\n",
    "                points.append([-i,-j])\n",
    "        else:\n",
    "            points_not.append([i,j])\n",
    "            points_not.append([-i,j])\n",
    "            points_not.append([i,-j])\n",
    "            points_not.append([-i,-j])\n",
    "    \n",
    "print(points)\n",
    "#print(points_not)\n",
    "\n",
    "import numpy as np\n",
    "import matplotlib.pyplot as plt\n",
    "\n",
    "points = np.array(points)\n",
    "points_not = np.array(points_not)\n",
    "\n",
    "theta = np.array(range(201))\n",
    "theta = theta/100*np.pi\n",
    "x = a*np.cos(theta)\n",
    "y = b*np.sin(theta)\n",
    "\n",
    "plt.plot(x,y, color='black')\n",
    "plt.plot(points[:,0],points[:,1], '.', color='red')\n",
    "plt.plot(points_not[:,0],points_not[:,1], '.', color='blue')"
   ]
  },
  {
   "cell_type": "markdown",
   "metadata": {},
   "source": [
    "# 실습 문제 3 : Possible permutations\n",
    "---\n",
    "다음의 조건을 만족하는 결과를 출력하도록 파이썬 코드를 작성해보자.\n",
    "1. 임의의 정수 `n`을 입력받는다.\n",
    "    * `n`이 3보다 작으면, `A number greater than or equal to 3 is required.`라는 에러 메세지를 출력한다.\n",
    "2. 1부터 n까지의 정수 중에서 3개를 뽑아서 일렬로 나열하는 모든 방법을 출력한다.\n",
    "3. 마지막으로 총 경우의 수를 출력한다.\n",
    "\n",
    "## 예시\n",
    "입력 : `n = 3`\n",
    "\n",
    "출력 :\n",
    "```\n",
    "[1, 2, 3], [1, 3, 2], [2, 1, 3], [2, 3, 1], [3, 1, 2], [3, 2, 1]\n",
    "Number of cases = 6\n",
    "```"
   ]
  },
  {
   "cell_type": "code",
   "execution_count": 5,
   "metadata": {},
   "outputs": [
    {
     "name": "stdout",
     "output_type": "stream",
     "text": [
      "n is 4\n",
      "[[1, 2, 3], [2, 3, 1], [3, 1, 2], [1, 3, 2], [2, 1, 3], [3, 2, 1], [1, 2, 4], [2, 4, 1], [4, 1, 2], [1, 4, 2], [2, 1, 4], [4, 2, 1], [1, 3, 4], [3, 4, 1], [4, 1, 3], [1, 4, 3], [3, 1, 4], [4, 3, 1], [2, 3, 4], [3, 4, 2], [4, 2, 3], [2, 4, 3], [3, 2, 4], [4, 3, 2]]\n",
      "Number of cases = 24\n"
     ]
    }
   ],
   "source": [
    "n = int(input(\"n is \"))\n",
    "\n",
    "cases = []\n",
    "if n < 3:\n",
    "    print(\"A number greater than or equal to 3 is required.\")\n",
    "else:\n",
    "    for i in range(1,n+1):\n",
    "        for j in range(i+1,n+1):\n",
    "            for k in range(j+1,n+1):\n",
    "                cases.append([i,j,k])\n",
    "                cases.append([j,k,i])\n",
    "                cases.append([k,i,j])\n",
    "                cases.append([i,k,j])\n",
    "                cases.append([j,i,k])\n",
    "                cases.append([k,j,i])\n",
    "                \n",
    "print(cases)\n",
    "print(\"Number of cases =\", len(cases))"
   ]
  },
  {
   "cell_type": "markdown",
   "metadata": {},
   "source": [
    "# 실습 문제 4 : Draw diamond\n",
    "---\n",
    "다음의 그림을 그릴 수 있도록 파이썬 코드를 작성해보자.\n",
    "1. 임의의 홀수 `n`을 입력받는다.\n",
    "2. `*`와 `=`으로 이루어진 다이아몬드 그림을 출력한다.\n",
    "\n",
    "## 예시\n",
    "입력 : `n = 3`\n",
    "\n",
    "출력 :\n",
    "```\n",
    "===*===\n",
    "==***==\n",
    "===*===\n",
    "```"
   ]
  },
  {
   "cell_type": "code",
   "execution_count": 3,
   "metadata": {},
   "outputs": [
    {
     "name": "stdout",
     "output_type": "stream",
     "text": [
      "n = 9\n",
      "=========*=========\n",
      "========***========\n",
      "=======*****=======\n",
      "======*******======\n",
      "=====*********=====\n",
      "======*******======\n",
      "=======*****=======\n",
      "========***========\n",
      "=========*=========\n"
     ]
    }
   ],
   "source": [
    "n = int(input(\"n = \"))\n",
    "\n",
    "if n%2==0:\n",
    "    print(\"Please give odd number.\")\n",
    "else:\n",
    "    for i in range(n):\n",
    "        a = int(n - 2*abs(n/2-0.5 - i))\n",
    "        b = int((2*n+1 - a)/2)\n",
    "        print(\"=\"*b + \"*\"*a + \"=\"*b)"
   ]
  },
  {
   "cell_type": "code",
   "execution_count": null,
   "metadata": {},
   "outputs": [],
   "source": []
  },
  {
   "cell_type": "code",
   "execution_count": null,
   "metadata": {},
   "outputs": [],
   "source": []
  },
  {
   "cell_type": "markdown",
   "metadata": {},
   "source": [
    "# 실습 문제 6 : Simple card game\n",
    "---\n",
    "다음의 룰을 만족하는 간단한 카드게임을 구현할 수 있도록 파이썬 코드를 작성해보자.\n",
    "1. 1에서 11까지의 숫자가 적힌 카드 각각 네 장씩 있다.(총 44장)\n",
    "2. 나와 딜러가 각각 임의이 카드 두 장을 뽑는다.\n",
    "3. 카드 숫자의 합이 큰 사람이 승리한다.\n",
    "     * 내가 뽑은 카드와 합계 점수, 딜러가 뽑은 카드와 합계 점수를 출력한다.\n",
    "     * 최종적으로 승/무/패 여부를 출력한다.\n",
    "     \n",
    "## 예시\n",
    "출력 : \n",
    "```\n",
    "Your card is [3,4] ---> your score is 7.\n",
    "Dealer's card is [5,6] ---> his score is 11.\n",
    "You LOSE...\n",
    "```\n"
   ]
  },
  {
   "cell_type": "code",
   "execution_count": 54,
   "metadata": {},
   "outputs": [
    {
     "name": "stdout",
     "output_type": "stream",
     "text": [
      "Your card is [11, 10] ---> your score is 21.\n",
      "Dealer's card is [8, 6] ---> his score is 14.\n",
      "You WIN!!!\n"
     ]
    }
   ],
   "source": [
    "import random\n",
    "\n",
    "card = list(range(1,12))*4\n",
    "random.shuffle(card)\n",
    "\n",
    "you = []\n",
    "you_score = 0\n",
    "dealer = []\n",
    "dealer_score = 0\n",
    "\n",
    "for i in range(2):\n",
    "    you.append(card[2*i])\n",
    "    dealer.append(card[2*i+1])\n",
    "    you_score += you[i]\n",
    "    dealer_score += dealer[i]\n",
    "\n",
    "print(\"Your card is {} ---> your score is {}.\".format(you, you_score))\n",
    "print(\"Dealer's card is {} ---> his score is {}.\".format(dealer, dealer_score))\n",
    "if you_score > dealer_score:\n",
    "    print(\"You WIN!!!\")\n",
    "elif you_score == dealer_score:\n",
    "    print(\"You DRAW.\")\n",
    "else:\n",
    "    print(\"You LOSE...\")"
   ]
  },
  {
   "cell_type": "markdown",
   "metadata": {},
   "source": [
    "# 실습을 마무리하며...\n",
    "---\n",
    "6가지의 다양한 실습 문제를 통해서 이제껏 배운 파이썬 문법을 어떻게 이용할 지에 대해 고민할 수 있었다. 중요한 것은 알고리즘의 구조와 그것을 구현할 때 필요한 python 함수를 잘 기억해두는 것이 중요하다."
   ]
  }
 ],
 "metadata": {
  "kernelspec": {
   "display_name": "Python 3",
   "language": "python",
   "name": "python3"
  },
  "language_info": {
   "codemirror_mode": {
    "name": "ipython",
    "version": 3
   },
   "file_extension": ".py",
   "mimetype": "text/x-python",
   "name": "python",
   "nbconvert_exporter": "python",
   "pygments_lexer": "ipython3",
   "version": "3.6.0"
  }
 },
 "nbformat": 4,
 "nbformat_minor": 2
}
