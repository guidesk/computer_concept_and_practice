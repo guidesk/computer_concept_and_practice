{
 "cells": [
  {
   "cell_type": "markdown",
   "metadata": {},
   "source": [
    "03월 15일 목요일 : 실습\n",
    "===\n",
    "흐린 날씨지만 파이썬은 맑다.\n",
    "\n",
    "**실습해보자!**"
   ]
  },
  {
   "cell_type": "markdown",
   "metadata": {},
   "source": [
    "# 실습 문제1 : String in the box\n",
    "---\n",
    "다음의 조건을 만족하는 결과를 출력하도록 파이썬 코드를 작성해보자.\n",
    "1. 임의의 문자열을 입력받는다.\n",
    "2. 입력값을 기호로 둘러싼 형태로 출력한다.\n",
    "     * 입력값 위에는 `-`와 `+`가 번갈아 나타나게 한다.\n",
    "     * 입력값 아래에는 `+`와 `-`가 번갈아 나타나게 한다.\n",
    "     * 입력값 양 옆에는 `|`기호가 나타나게 한다.\n",
    "\n",
    "## 예시\n",
    "입력 : `abcd`\n",
    "\n",
    "출력 : \n",
    "```{.python}\n",
    "-+-+-+\n",
    "|abcd|\n",
    "+-+-+-\n",
    "```"
   ]
  },
  {
   "cell_type": "code",
   "execution_count": 1,
   "metadata": {},
   "outputs": [
    {
     "name": "stdout",
     "output_type": "stream",
     "text": [
      "abberation\n",
      "-+-+-+-+-+-+\n",
      "|abberation|\n",
      "+-+-+-+-+-+-\n"
     ]
    }
   ],
   "source": [
    "something = input()\n",
    "length = len(something)\n",
    "a = int(length/2+1)\n",
    "b = length%2\n",
    "\n",
    "print('-+'*a + '-'*b)\n",
    "print('|%s|' %something)\n",
    "print('+-'*a + '+'*b)"
   ]
  },
  {
   "cell_type": "code",
   "execution_count": 5,
   "metadata": {},
   "outputs": [
    {
     "name": "stdout",
     "output_type": "stream",
     "text": [
      "5 7\n"
     ]
    },
    {
     "data": {
      "text/plain": [
       "[<matplotlib.lines.Line2D at 0x10ffdd358>]"
      ]
     },
     "execution_count": 5,
     "metadata": {},
     "output_type": "execute_result"
    },
    {
     "data": {
      "image/png": "[encoded data removed]",
      "text/plain": [
       "<Figure size 432x288 with 1 Axes>"
      ]
     },
     "metadata": {},
     "output_type": "display_data"
    }
   ],
   "source": [
    "a, b = input().split()\n",
    "a = int(a)\n",
    "b = int(b)\n",
    "\n",
    "points = []\n",
    "points_not = []\n",
    "for i in range(a+1):\n",
    "    for j in range(b+1):\n",
    "        if (i/a)**2+(j/b)**2 <= 1:\n",
    "            points.append([i,j])\n",
    "            points.append([-i,j])\n",
    "            points.append([i,-j])\n",
    "            points.append([-i,-j])\n",
    "        else:\n",
    "            points_not.append([i,j])\n",
    "            points_not.append([-i,j])\n",
    "            points_not.append([i,-j])\n",
    "            points_not.append([-i,-j])\n",
    "\n",
    "points[0:3] = []\n",
    "#print(points)\n",
    "#print(points_not)\n",
    "\n",
    "import numpy as np\n",
    "import matplotlib.pyplot as plt\n",
    "\n",
    "points = np.array(points)\n",
    "points_not = np.array(points_not)\n",
    "\n",
    "theta = np.array(range(201))\n",
    "theta = theta/100*np.pi\n",
    "x = a*np.cos(theta)\n",
    "y = b*np.sin(theta)\n",
    "\n",
    "plt.plot(x,y, color='black')\n",
    "plt.plot(points[:,0],points[:,1], '.', color='red')\n",
    "plt.plot(points_not[:,0],points_not[:,1], '.', color='blue')"
   ]
  },
  {
   "cell_type": "code",
   "execution_count": null,
   "metadata": {},
   "outputs": [],
   "source": []
  },
  {
   "cell_type": "code",
   "execution_count": null,
   "metadata": {},
   "outputs": [],
   "source": []
  }
 ],
 "metadata": {
  "kernelspec": {
   "display_name": "Python 3",
   "language": "python",
   "name": "python3"
  },
  "language_info": {
   "codemirror_mode": {
    "name": "ipython",
    "version": 3
   },
   "file_extension": ".py",
   "mimetype": "text/x-python",
   "name": "python",
   "nbconvert_exporter": "python",
   "pygments_lexer": "ipython3",
   "version": "3.6.0"
  }
 },
 "nbformat": 4,
 "nbformat_minor": 2
}
