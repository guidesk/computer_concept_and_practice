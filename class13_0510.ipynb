{
 "cells": [
  {
   "cell_type": "markdown",
   "metadata": {},
   "source": [
    "05월 10일 목요일 : Collections\n",
    "===\n",
    "추상화를 이해해보자!"
   ]
  },
  {
   "cell_type": "code",
   "execution_count": 1,
   "metadata": {},
   "outputs": [],
   "source": [
    "class new_iterator:\n",
    "    def __init__(self, n):\n",
    "        self.i = 1\n",
    "        self.n = n\n",
    "        \n",
    "    def __iter__(self):\n",
    "        return new_iterator(self.n)\n",
    "    \n",
    "    def __next__(self):\n",
    "        if self.i < self.n:\n",
    "            i = self.i\n",
    "            self.i += 2\n",
    "            return i\n",
    "        else:\n",
    "            raise StopIteration()"
   ]
  },
  {
   "cell_type": "code",
   "execution_count": 4,
   "metadata": {},
   "outputs": [
    {
     "name": "stdout",
     "output_type": "stream",
     "text": [
      "1\n",
      "3\n",
      "5\n",
      "7\n",
      "9\n"
     ]
    }
   ],
   "source": [
    "a = new_iterator(10)\n",
    "for j in a:\n",
    "    print(j)"
   ]
  },
  {
   "cell_type": "code",
   "execution_count": 5,
   "metadata": {},
   "outputs": [
    {
     "name": "stdout",
     "output_type": "stream",
     "text": [
      "0\n",
      "2\n",
      "4\n",
      "6\n",
      "8\n",
      "10\n",
      "12\n",
      "14\n"
     ]
    }
   ],
   "source": [
    "def new_gen(n):\n",
    "    i = 0\n",
    "    while 2*i <= n:\n",
    "        yield 2*i\n",
    "        i += 1\n",
    "        \n",
    "a = new_gen(14)\n",
    "for j in a:\n",
    "    print(j)"
   ]
  },
  {
   "cell_type": "code",
   "execution_count": null,
   "metadata": {},
   "outputs": [],
   "source": []
  }
 ],
 "metadata": {
  "kernelspec": {
   "display_name": "Python 3",
   "language": "python",
   "name": "python3"
  },
  "language_info": {
   "codemirror_mode": {
    "name": "ipython",
    "version": 3
   },
   "file_extension": ".py",
   "mimetype": "text/x-python",
   "name": "python",
   "nbconvert_exporter": "python",
   "pygments_lexer": "ipython3",
   "version": "3.6.0"
  }
 },
 "nbformat": 4,
 "nbformat_minor": 2
}
