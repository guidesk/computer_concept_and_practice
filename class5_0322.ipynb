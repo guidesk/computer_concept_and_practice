{
 "cells": [
  {
   "cell_type": "markdown",
   "metadata": {},
   "source": [
    "03월 22일 목요일 : File Handling\n",
    "===\n",
    "날씨가 좋다. 따뜻한 날씨 속에 파이썬은 시원하다!\n",
    "\n",
    "# 파일 열기 모드\n",
    "---\n",
    "1.`w`\n",
    "    * 쓰기 모드\n",
    "    * 새로운 파일이 생성됨.\n",
    "    * 동일한 이름의 파일이 이미 존재하면 기존 파일이 덮어씌워짐.\n",
    "2.`a`\n",
    "    * 추가 모드.\n",
    "3.`r`\n",
    "    * 읽기 모드.\n",
    "    \n",
    "# 파일 닫기\n",
    "---\n",
    "무조건 클로즈를 해야한다. 메모리 절약을 위해서!!!\n",
    "\n",
    "`with` 함수를 사용하면 알아서 닫아준다.!!\n",
    "\n",
    "# 파일에 내용 쓰기\n",
    "---\n",
    "`\\n` 을 통해서 줄을 넘긴다.\n"
   ]
  },
  {
   "cell_type": "code",
   "execution_count": null,
   "metadata": {},
   "outputs": [],
   "source": []
  }
 ],
 "metadata": {
  "kernelspec": {
   "display_name": "Python 3",
   "language": "python",
   "name": "python3"
  },
  "language_info": {
   "codemirror_mode": {
    "name": "ipython",
    "version": 3
   },
   "file_extension": ".py",
   "mimetype": "text/x-python",
   "name": "python",
   "nbconvert_exporter": "python",
   "pygments_lexer": "ipython3",
   "version": "3.6.0"
  }
 },
 "nbformat": 4,
 "nbformat_minor": 2
}
