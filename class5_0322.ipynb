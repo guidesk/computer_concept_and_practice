{
 "cells": [
  {
   "cell_type": "markdown",
   "metadata": {},
   "source": [
    "03월 22일 목요일 : File Handling\n",
    "===\n",
    "날씨가 좋다. 따뜻한 날씨 속에 파이썬은 시원하다!\n",
    "\n",
    "# 파일 열기 모드\n",
    "---\n",
    "1.`w`\n",
    "    * 쓰기 모드\n",
    "    * 새로운 파일이 생성됨.\n",
    "    * 동일한 이름의 파일이 이미 존재하면 기존 파일이 덮어씌워짐.\n",
    "2.`a`\n",
    "    * 추가 모드.\n",
    "3.`r`\n",
    "    * 읽기 모드.\n",
    "    \n",
    "# 파일 닫기\n",
    "---\n",
    "무조건 클로즈를 해야한다. 메모리 절약을 위해서!!!\n",
    "\n",
    "`with` 함수를 사용하면 알아서 닫아준다.!!\n",
    "\n",
    "# 파일에 내용 쓰기\n",
    "---\n",
    "`\\n` 을 통해서 줄을 넘긴다.\n"
   ]
  },
  {
   "cell_type": "code",
   "execution_count": 1,
   "metadata": {},
   "outputs": [
    {
     "ename": "SyntaxError",
     "evalue": "invalid syntax (<ipython-input-1-3eb2825435c0>, line 50)",
     "output_type": "error",
     "traceback": [
      "\u001b[0;36m  File \u001b[0;32m\"<ipython-input-1-3eb2825435c0>\"\u001b[0;36m, line \u001b[0;32m50\u001b[0m\n\u001b[0;31m    def main(...):\u001b[0m\n\u001b[0m               ^\u001b[0m\n\u001b[0;31mSyntaxError\u001b[0m\u001b[0;31m:\u001b[0m invalid syntax\n"
     ]
    }
   ],
   "source": [
    "import os.path\n",
    "\n",
    "def read_file(file_path):\n",
    "    '''\n",
    "    :param\n",
    "        파일 경로를 담은 문자열\n",
    "    :return\n",
    "        한 줄 씩 읽은 문자열의 리스트\n",
    "    '''\n",
    "    f = open(file_path,'r')\n",
    "    lines = f.readlines()\n",
    "    f.close()\n",
    "    return lines\n",
    "\n",
    "def count_letter(line, letter):\n",
    "    '''\n",
    "    :param\n",
    "        한 줄의 문자열\n",
    "        몇개 있는지 셀 하나의 문자열\n",
    "    :return\n",
    "        개수\n",
    "    '''\n",
    "    cnt = line.count(letter)\n",
    "    return cnt\n",
    "\n",
    "def get_statistics(cnt_list):\n",
    "    '''\n",
    "    :param\n",
    "        개수의 리스트\n",
    "    :return\n",
    "        합계, 평균, 최대, 최소\n",
    "    '''\n",
    "    cnt_sum = sum(cnt_list)\n",
    "    cnt_avg = cnt_sum / len(cnt_list)\n",
    "    cnt_max = max(cnt_list)\n",
    "    cnt_min = min(cnt_list)\n",
    "    return cnt_sum, cnt_avg, cnt_max, cnt_min\n",
    "\n",
    "def write_result(file_path):\n",
    "    '''\n",
    "    :param\n",
    "         파일 경로를 담은 문자열\n",
    "         파일에 쓸 문자열\n",
    "    '''\n",
    "    f = open(file_path, 'w')\n",
    "    f.write(result_str)\n",
    "    f.close()\n",
    "    \n",
    "\n",
    "def main(...):\n",
    "    '''\n",
    "    파일을 읽고 라인 별 등장 횟수를 센 이후에 통계치 계산.\n",
    "    계산한 통계치를 출력 (print)하고,\n",
    "    같은 결과를 파일로 씀\n",
    "    :param\n",
    "        읽을 파일 경로 문자열\n",
    "        쓸 파일 경로 문자열\n",
    "        몇개 있는지 셀 하나의 문자열\n",
    "    '''\n",
    "    lines = read_file(path_to_read)\n",
    "    cnt_list = []\n",
    "    for line in lines:\n",
    "        cnt_list.append(count_letter(line, letter))\n",
    "    \n",
    "    cnt_sum, cnt_avg, cnt_max, cnt_min = get_statistics(cnt_list)\n",
    "    result_str = \"sum: %s\\n\" %cnt_sum\n",
    "    result_str += \"avg: %s\\n\" %cnt_avg\n",
    "    result_str += \"max: %s\\n\" %cnt_max\n",
    "    result_str += \"min: %s\\n\" %cnt_min\n",
    "    \n",
    "    print(result_str)\n",
    "\n",
    "letter_to_check = input(\"which letter? (a-z): \")\n",
    "\n",
    "# FIXME\n",
    "file_path_to_read = 'D:\\\\Download\\\\example.txt'\n",
    "file_path_to_write = 'D:\\\\Download\\\\statistics_%s.txt' % letter_to_check\n",
    "\n",
    "main(file_path_to_read, file_path_to_write, letter_to_check)\n",
    "print(\"file is saved at: %s\" % file_path_to_write)\n",
    "\n"
   ]
  },
  {
   "cell_type": "code",
   "execution_count": 17,
   "metadata": {},
   "outputs": [
    {
     "name": "stdout",
     "output_type": "stream",
     "text": [
      "First Line\n",
      "\n",
      "Second Line\n",
      "\n",
      "Third Line\n",
      "\n"
     ]
    }
   ],
   "source": [
    "f = open('/Users/KangSooSang/guidesk/computer_concept_and_practice/test.txt', 'r')\n",
    "while True:\n",
    "    line = f.readline()\n",
    "    if not line:\n",
    "        break\n",
    "    print(line)\n",
    "f.close()"
   ]
  },
  {
   "cell_type": "code",
   "execution_count": 28,
   "metadata": {},
   "outputs": [
    {
     "name": "stdout",
     "output_type": "stream",
     "text": [
      "First Line\n",
      "\n",
      "Second Line\n",
      "\n",
      "Third Line\n",
      "\n"
     ]
    }
   ],
   "source": [
    "f = open('/Users/KangSooSang/guidesk/computer_concept_and_practice/test.txt', 'r')\n",
    "for l in f.readlines():\n",
    "    print(l)\n",
    "f.close()"
   ]
  },
  {
   "cell_type": "code",
   "execution_count": 31,
   "metadata": {},
   "outputs": [
    {
     "name": "stdout",
     "output_type": "stream",
     "text": [
      "['First Line\\n', 'Second Line\\n', 'Third Line\\n']\n",
      "['First Line', 'Second Line', 'Third Line']\n"
     ]
    }
   ],
   "source": [
    "f = open('/Users/KangSooSang/guidesk/computer_concept_and_practice/test.txt', 'r')\n",
    "lines = f.readlines()\n",
    "print(lines)\n",
    "lines = [l.rstrip() for l in lines]\n",
    "print(lines)\n",
    "f.close()"
   ]
  },
  {
   "cell_type": "code",
   "execution_count": 2,
   "metadata": {},
   "outputs": [
    {
     "ename": "SyntaxError",
     "evalue": "invalid syntax (<ipython-input-2-7f5bc2e7a220>, line 3)",
     "output_type": "error",
     "traceback": [
      "\u001b[0;36m  File \u001b[0;32m\"<ipython-input-2-7f5bc2e7a220>\"\u001b[0;36m, line \u001b[0;32m3\u001b[0m\n\u001b[0;31m    def read_file(...):\u001b[0m\n\u001b[0m                    ^\u001b[0m\n\u001b[0;31mSyntaxError\u001b[0m\u001b[0;31m:\u001b[0m invalid syntax\n"
     ]
    }
   ],
   "source": [
    "import os.path\n",
    "\n",
    "def read_file(...):\n",
    "    '''\n",
    "    :param\n",
    "        파일 경로를 담은 문자열\n",
    "    :return\n",
    "        한 줄 씩 읽은 문자열의 리스트\n",
    "    '''\n",
    "\n",
    "def write_result(...):\n",
    "    '''\n",
    "    :param\n",
    "         파일 경로를 담은 문자열\n",
    "         파일에 쓸 문자열\n",
    "    '''\n",
    "\n",
    "def parse_line(...):\n",
    "    '''\n",
    "    한 줄을 전처리하여 키워드와 값으로 분리\n",
    "    :param\n",
    "        한 줄의 문자열\n",
    "    :return\n",
    "        키워드의 리스트, 값의 리스트\n",
    "    '''\n",
    "\n",
    "def get_keywords_superset(...):\n",
    "    '''\n",
    "    여러 사람의 키워드 리스트를 받아,\n",
    "    키워드의 superset이 되는 리스트를 만듦\n",
    "    :param\n",
    "        문자열 이중 리스트\n",
    "    :return:\n",
    "        문자열 리스트\n",
    "    '''\n",
    "\n",
    "def fill_in_blanks(...):\n",
    "    '''\n",
    "    superset에 포함된 키워드가 현재 키워드 리스트에 없으면 'NA'를 갖고,\n",
    "    아니면 원래 값을 갖는 값의 리스트를 만듦\n",
    "    :param\n",
    "        키워드 superset 리스트\n",
    "        키워드 리스트\n",
    "        값 리스트 \n",
    "    :return: \n",
    "        값 리스트\n",
    "    '''\n",
    "\n",
    "def make_a_str_line(...):\n",
    "    '''\n",
    "    :param\n",
    "        문자열의 리스트:\n",
    "    :return\n",
    "        \", \"로 각 아이템이 구분되어 있는 한 줄의 문자열\n",
    "    '''\n",
    "\n",
    "def main(path_to_read, path_to_write):\n",
    "    '''\n",
    "    파일을 읽고 라인 별 키워드와 값의 리스트를 생성.\n",
    "    모든 라인에 대해 위의 결과를 모아,\n",
    "    키워드의 이중 리스트, 값의 이중 리스트 생성.\n",
    "    키워드의 superset이 되는 리스트 생성.\n",
    "    \", \"로 구분되는 헤더와 내용을 문자열로 만듦.\n",
    "    최종적으로 만들어진 문자열을 출력.\n",
    "    같은 결과를 파일로 씀\n",
    "    :param\n",
    "        읽을 파일 경로 문자열\n",
    "        쓸 파일 경로 문자열\n",
    "    '''\n",
    "\n",
    "# FIXME\n",
    "file_path_to_read = 'D:\\\\Download\\\\example2.txt'\n",
    "file_path_to_write = 'D:\\\\Download\\\\example2.csv'\n",
    "\n",
    "main(file_path_to_read, file_path_to_write)\n",
    "print(\"file is saved at: %s\" % file_path_to_write)\n",
    "\n"
   ]
  },
  {
   "cell_type": "code",
   "execution_count": 6,
   "metadata": {},
   "outputs": [
    {
     "data": {
      "text/plain": [
       "['a', 'b', 'c', 'd']"
      ]
     },
     "execution_count": 6,
     "metadata": {},
     "output_type": "execute_result"
    }
   ],
   "source": [
    "a = 'a, b, c, d'\n",
    "a.split(', ')"
   ]
  },
  {
   "cell_type": "code",
   "execution_count": 35,
   "metadata": {},
   "outputs": [
    {
     "name": "stdout",
     "output_type": "stream",
     "text": [
      "which letter? (a-z): a\n",
      "sum: 3137\n",
      "avg: 6.274\n",
      "max: 15\n",
      "min: 0\n",
      "\n",
      "file is saved at: statistics_a.txt\n"
     ]
    }
   ],
   "source": [
    "import os.path\n",
    "\n",
    "def read_file(file_path):\n",
    "    '''\n",
    "    :param\n",
    "        파일 경로를 담은 문자열\n",
    "    :return\n",
    "        한 줄 씩 읽은 문자열의 리스트\n",
    "    '''\n",
    "    f = open(file_path, 'r')\n",
    "    lines = f.readlines()\n",
    "    f.close()\n",
    "    return lines\n",
    "\n",
    "def count_letter(line, letter):\n",
    "    '''\n",
    "    :param\n",
    "        한 줄의 문자열\n",
    "        몇개 있는지 셀 하나의 문자열\n",
    "    :return\n",
    "        개수\n",
    "    '''\n",
    "    cnt = line.count(letter)\n",
    "    return cnt\n",
    "\n",
    "def get_statistics(cnt_list):\n",
    "    '''\n",
    "    :param\n",
    "        개수의 리스트\n",
    "    :return\n",
    "        합계, 평균, 최대, 최소\n",
    "    '''\n",
    "    cnt_sum = sum(cnt_list)\n",
    "    cnt_avg = cnt_sum / len(cnt_list)\n",
    "    cnt_max = max(cnt_list)\n",
    "    cnt_min = min(cnt_list)\n",
    "    return cnt_sum, cnt_avg, cnt_max, cnt_min\n",
    "\n",
    "def write_result(file_path, result_str):\n",
    "    '''\n",
    "    :param\n",
    "         파일 경로를 담은 문자열\n",
    "         파일에 쓸 문자열\n",
    "    '''\n",
    "    f = open(file_path, 'w')\n",
    "    f.write(result_str)\n",
    "    f.close()\n",
    "\n",
    "def main(path_to_read, path_to_write, letter):\n",
    "    '''\n",
    "    파일을 읽고 라인 별 등장 횟수를 센 이후에 통계치 계산.\n",
    "    계산한 통계치를 출력 (print)하고,\n",
    "    같은 결과를 파일로 씀\n",
    "    :param\n",
    "        읽을 파일 경로 문자열\n",
    "        쓸 파일 경로 문자열\n",
    "        몇개 있는지 셀 하나의 문자열\n",
    "    '''\n",
    "    lines = read_file(path_to_read)\n",
    "    cnt_list = []\n",
    "    for line in lines:\n",
    "        cnt_list.append(count_letter(line, letter))\n",
    "\n",
    "    cnt_sum, cnt_avg, cnt_max, cnt_min = get_statistics(cnt_list)\n",
    "    result_str = \"sum: %s\\n\" % cnt_sum\n",
    "    result_str += \"avg: %s\\n\" % cnt_avg\n",
    "    result_str += \"max: %s\\n\" % cnt_max\n",
    "    result_str += \"min: %s\\n\" % cnt_min\n",
    "    print(result_str)\n",
    "\n",
    "    write_result(path_to_write, result_str)\n",
    "\n",
    "\n",
    "letter_to_check = input(\"which letter? (a-z): \")\n",
    "\n",
    "# FIXME\n",
    "file_path_to_read = '/Users/KangSooSang/Downloads/example.txt'\n",
    "file_path_to_write = 'statistics_%s.txt' % letter_to_check\n",
    "\n",
    "main(file_path_to_read, file_path_to_write, letter_to_check)\n",
    "print(\"file is saved at: %s\" % file_path_to_write)"
   ]
  },
  {
   "cell_type": "code",
   "execution_count": null,
   "metadata": {},
   "outputs": [],
   "source": []
  },
  {
   "cell_type": "code",
   "execution_count": null,
   "metadata": {},
   "outputs": [],
   "source": []
  }
 ],
 "metadata": {
  "kernelspec": {
   "display_name": "Python 3",
   "language": "python",
   "name": "python3"
  },
  "language_info": {
   "codemirror_mode": {
    "name": "ipython",
    "version": 3
   },
   "file_extension": ".py",
   "mimetype": "text/x-python",
   "name": "python",
   "nbconvert_exporter": "python",
   "pygments_lexer": "ipython3",
   "version": "3.6.0"
  }
 },
 "nbformat": 4,
 "nbformat_minor": 2
}
