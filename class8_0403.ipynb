{
 "cells": [
  {
   "cell_type": "markdown",
   "metadata": {},
   "source": [
    "04월 03일 화요일 : 상속, Inheritance\n",
    "===\n",
    "꽃이 피기 시작한다. 파이썬도 활짝 피어날 것이다.\n",
    "\n",
    "# 상속\n",
    "---\n",
    "클래스를 표현하는 네 단어, 추상화, 상속, 다형성, 캡슐화 클래스끼리 특성을 주고 받는 법을 배워보자!\n",
    "\n",
    "하위클래스가 좀 더 명확하게 밝혀져있다. 슈퍼클래스와 서브 클래스라고 부르자.\n",
    "\n",
    "하위클래스는 슈퍼 클래스에서 물려 받은 기능을 수정할 수 있다.\n",
    "\n",
    "상속의 필요성\n",
    "* 코드의 재사용성이 높아짐\n",
    "* 다른 사람이 구현해 놓은 클래스를 상속받아 customize 가능"
   ]
  },
  {
   "cell_type": "code",
   "execution_count": 27,
   "metadata": {},
   "outputs": [
    {
     "name": "stdout",
     "output_type": "stream",
     "text": [
      "grrrrr\n",
      "7\n"
     ]
    },
    {
     "data": {
      "text/plain": [
       "8"
      ]
     },
     "execution_count": 27,
     "metadata": {},
     "output_type": "execute_result"
    }
   ],
   "source": [
    "class Dog:\n",
    "    def __init__(self, name, weight, happiness=0, hunger=10):\n",
    "        self._name = name\n",
    "        self._weight = weight \n",
    "        self._happiness = happiness\n",
    "        self._hunger = hunger\n",
    "        \n",
    "    def play(self):\n",
    "        self._happiness += 1\n",
    "        \n",
    "    def eat(self):\n",
    "        self._hunger -= 1\n",
    "\n",
    "class Husky(Dog):\n",
    "    def __init(self, name, weight, happiness, hunger):\n",
    "        super().__init__()\n",
    "    \n",
    "    def bark(self):\n",
    "        print(\"grrrrr\")\n",
    "        \n",
    "class Terrier(Dog):\n",
    "    def __init(self, name, weight):\n",
    "        super().__init__(name, weight)\n",
    "    \n",
    "    def bark(self):\n",
    "        print(\"bowbow\")\n",
    "        \n",
    "mypet = Husky('puppy', 34, 7, 10)\n",
    "mypet.bark()\n",
    "print(mypet._happiness)\n",
    "mypet.play()\n",
    "mypet._happiness"
   ]
  },
  {
   "cell_type": "code",
   "execution_count": 30,
   "metadata": {},
   "outputs": [
    {
     "name": "stdout",
     "output_type": "stream",
     "text": [
      "The most base type\n"
     ]
    }
   ],
   "source": [
    "print(object.__doc__)"
   ]
  },
  {
   "cell_type": "code",
   "execution_count": 56,
   "metadata": {},
   "outputs": [
    {
     "name": "stdout",
     "output_type": "stream",
     "text": [
      "2\n",
      "6\n",
      "6\n",
      "7\n",
      "5\n",
      "7\n",
      "10\n",
      "2\n",
      "4\n",
      "1\n",
      "After sorting,\n",
      "1\n",
      "2\n",
      "2\n",
      "4\n",
      "5\n",
      "6\n",
      "6\n",
      "7\n",
      "7\n",
      "10\n"
     ]
    }
   ],
   "source": [
    "class Person:\n",
    "    def __init__(self, age):\n",
    "        self.age = age\n",
    "    \n",
    "    def __str__(self):\n",
    "        return \"%s\" %self.age\n",
    "    \n",
    "    def __lt__(self, other):\n",
    "        return self.age < other.age\n",
    "    \n",
    "    def __le__(self, other):\n",
    "        return self.age <= other.age\n",
    "    \n",
    "    def __gt__(self, other):\n",
    "        return self.age > other.age\n",
    "    \n",
    "    def __ge__(self, other):\n",
    "        return self.age >= other.age\n",
    "    \n",
    "    def __eq__(self, other):\n",
    "        return self.age == other.age\n",
    "    \n",
    "    def __ne__(self, other):\n",
    "        return self.age != other.age\n",
    "\n",
    "import random\n",
    "    \n",
    "persons = []\n",
    "for i in range(10):\n",
    "    persons.append(Person(random.randint(1,10)))\n",
    "    print(persons[-1])\n",
    "\n",
    "print(\"After sorting,\")\n",
    "persons.sort()\n",
    "for p in persons:\n",
    "    print(p)"
   ]
  },
  {
   "cell_type": "code",
   "execution_count": null,
   "metadata": {},
   "outputs": [],
   "source": []
  },
  {
   "cell_type": "code",
   "execution_count": null,
   "metadata": {},
   "outputs": [],
   "source": []
  }
 ],
 "metadata": {
  "kernelspec": {
   "display_name": "Python 3",
   "language": "python",
   "name": "python3"
  },
  "language_info": {
   "codemirror_mode": {
    "name": "ipython",
    "version": 3
   },
   "file_extension": ".py",
   "mimetype": "text/x-python",
   "name": "python",
   "nbconvert_exporter": "python",
   "pygments_lexer": "ipython3",
   "version": "3.6.0"
  }
 },
 "nbformat": 4,
 "nbformat_minor": 2
}
